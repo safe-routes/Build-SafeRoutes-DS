{
  "nbformat": 4,
  "nbformat_minor": 0,
  "metadata": {
    "colab": {
      "name": "Safe_Routes1 Create Synthetic negatives.ipynb",
      "version": "0.3.2",
      "provenance": [],
      "collapsed_sections": []
    },
    "kernelspec": {
      "name": "python3",
      "display_name": "Python 3"
    },
    "accelerator": "GPU"
  },
  "cells": [
    {
      "metadata": {
        "id": "U2EovSxSY31o",
        "colab_type": "text"
      },
      "cell_type": "markdown",
      "source": [
        "## Safe Routes Data - \n",
        "\n",
        "**Limited to San Fran Area**\n",
        "\n",
        "**Generates and appends sythetic negative data**"
      ]
    },
    {
      "metadata": {
        "id": "4azNxdr8ZWgl",
        "colab_type": "text"
      },
      "cell_type": "markdown",
      "source": [
        "### Import accident data"
      ]
    },
    {
      "metadata": {
        "id": "qnh5dmXrru_f",
        "colab_type": "code",
        "colab": {}
      },
      "cell_type": "code",
      "source": [
        "import pandas as pd\n",
        "import numpy as np\n",
        "import dask.dataframe as dd\n",
        "url = 'https://raw.githubusercontent.com/safe-routes/Build-SafeRoutes-DS/master/safe-routes-model.csv'\n",
        "ac = pd.read_csv(url, error_bad_lines = False)"
      ],
      "execution_count": 0,
      "outputs": []
    },
    {
      "metadata": {
        "id": "Ax2B7WCHru_k",
        "colab_type": "code",
        "outputId": "48933e0c-0572-4045-eba8-d691ae1fe7e7",
        "colab": {
          "base_uri": "https://localhost:8080/",
          "height": 374
        }
      },
      "cell_type": "code",
      "source": [
        "ac.head()"
      ],
      "execution_count": 0,
      "outputs": [
        {
          "output_type": "execute_result",
          "data": {
            "text/html": [
              "<div>\n",
              "<style scoped>\n",
              "    .dataframe tbody tr th:only-of-type {\n",
              "        vertical-align: middle;\n",
              "    }\n",
              "\n",
              "    .dataframe tbody tr th {\n",
              "        vertical-align: top;\n",
              "    }\n",
              "\n",
              "    .dataframe thead th {\n",
              "        text-align: right;\n",
              "    }\n",
              "</style>\n",
              "<table border=\"1\" class=\"dataframe\">\n",
              "  <thead>\n",
              "    <tr style=\"text-align: right;\">\n",
              "      <th></th>\n",
              "      <th>TWAY_ID</th>\n",
              "      <th>TWAY_ID2</th>\n",
              "      <th>COUNTY</th>\n",
              "      <th>LATITUDE</th>\n",
              "      <th>LONGITUD</th>\n",
              "      <th>DATE</th>\n",
              "      <th>DAY_WEEK</th>\n",
              "      <th>HOUR</th>\n",
              "      <th>LGT_COND</th>\n",
              "      <th>WEATHER</th>\n",
              "      <th>WRK_ZONE</th>\n",
              "      <th>FATALS</th>\n",
              "      <th>PEDS</th>\n",
              "      <th>MAN_COLL</th>\n",
              "      <th>FUNC_SYS</th>\n",
              "      <th>TYP_INT</th>\n",
              "    </tr>\n",
              "  </thead>\n",
              "  <tbody>\n",
              "    <tr>\n",
              "      <th>0</th>\n",
              "      <td>SR-51</td>\n",
              "      <td>NO SECOND STREET</td>\n",
              "      <td>SAN MATEO</td>\n",
              "      <td>32.618239</td>\n",
              "      <td>-85.371383</td>\n",
              "      <td>2015-01-13</td>\n",
              "      <td>TUESDAY</td>\n",
              "      <td>17</td>\n",
              "      <td>NIGHT</td>\n",
              "      <td>CLEAR</td>\n",
              "      <td>0</td>\n",
              "      <td>1</td>\n",
              "      <td>0</td>\n",
              "      <td>ANGLED</td>\n",
              "      <td>ARTERY</td>\n",
              "      <td>NOT AN INTERSECTION</td>\n",
              "    </tr>\n",
              "    <tr>\n",
              "      <th>1</th>\n",
              "      <td>CR-40</td>\n",
              "      <td>NO SECOND STREET</td>\n",
              "      <td>ALAMEDA</td>\n",
              "      <td>32.524344</td>\n",
              "      <td>-86.672119</td>\n",
              "      <td>2015-01-16</td>\n",
              "      <td>FRIDAY</td>\n",
              "      <td>19</td>\n",
              "      <td>NIGHT</td>\n",
              "      <td>CLEAR</td>\n",
              "      <td>0</td>\n",
              "      <td>1</td>\n",
              "      <td>0</td>\n",
              "      <td>NOT APPLICABLE</td>\n",
              "      <td>COLLECTOR</td>\n",
              "      <td>NOT AN INTERSECTION</td>\n",
              "    </tr>\n",
              "    <tr>\n",
              "      <th>2</th>\n",
              "      <td>SR-14</td>\n",
              "      <td>NO SECOND STREET</td>\n",
              "      <td>ALAMEDA</td>\n",
              "      <td>32.430664</td>\n",
              "      <td>-86.517917</td>\n",
              "      <td>2015-01-10</td>\n",
              "      <td>SATURDAY</td>\n",
              "      <td>0</td>\n",
              "      <td>NIGHT</td>\n",
              "      <td>CLEAR</td>\n",
              "      <td>0</td>\n",
              "      <td>1</td>\n",
              "      <td>0</td>\n",
              "      <td>NOT APPLICABLE</td>\n",
              "      <td>ARTERY</td>\n",
              "      <td>NOT AN INTERSECTION</td>\n",
              "    </tr>\n",
              "    <tr>\n",
              "      <th>3</th>\n",
              "      <td>SR-147</td>\n",
              "      <td>NO SECOND STREET</td>\n",
              "      <td>SAN MATEO</td>\n",
              "      <td>32.615806</td>\n",
              "      <td>-85.507961</td>\n",
              "      <td>2015-02-11</td>\n",
              "      <td>WEDNESDAY</td>\n",
              "      <td>11</td>\n",
              "      <td>DAY</td>\n",
              "      <td>CLEAR</td>\n",
              "      <td>0</td>\n",
              "      <td>1</td>\n",
              "      <td>0</td>\n",
              "      <td>HEAD ON</td>\n",
              "      <td>ARTERY</td>\n",
              "      <td>NOT AN INTERSECTION</td>\n",
              "    </tr>\n",
              "    <tr>\n",
              "      <th>4</th>\n",
              "      <td>US-SR 1</td>\n",
              "      <td>NO SECOND STREET</td>\n",
              "      <td>SAN MATEO</td>\n",
              "      <td>32.679275</td>\n",
              "      <td>-85.370181</td>\n",
              "      <td>2015-02-23</td>\n",
              "      <td>MONDAY</td>\n",
              "      <td>18</td>\n",
              "      <td>NIGHT</td>\n",
              "      <td>CLEAR</td>\n",
              "      <td>0</td>\n",
              "      <td>1</td>\n",
              "      <td>1</td>\n",
              "      <td>NOT APPLICABLE</td>\n",
              "      <td>ARTERY</td>\n",
              "      <td>NOT AN INTERSECTION</td>\n",
              "    </tr>\n",
              "  </tbody>\n",
              "</table>\n",
              "</div>"
            ],
            "text/plain": [
              "   TWAY_ID          TWAY_ID2     COUNTY   LATITUDE   LONGITUD        DATE  \\\n",
              "0    SR-51  NO SECOND STREET  SAN MATEO  32.618239 -85.371383  2015-01-13   \n",
              "1    CR-40  NO SECOND STREET    ALAMEDA  32.524344 -86.672119  2015-01-16   \n",
              "2    SR-14  NO SECOND STREET    ALAMEDA  32.430664 -86.517917  2015-01-10   \n",
              "3   SR-147  NO SECOND STREET  SAN MATEO  32.615806 -85.507961  2015-02-11   \n",
              "4  US-SR 1  NO SECOND STREET  SAN MATEO  32.679275 -85.370181  2015-02-23   \n",
              "\n",
              "    DAY_WEEK  HOUR LGT_COND WEATHER  WRK_ZONE  FATALS  PEDS        MAN_COLL  \\\n",
              "0    TUESDAY    17    NIGHT   CLEAR         0       1     0          ANGLED   \n",
              "1     FRIDAY    19    NIGHT   CLEAR         0       1     0  NOT APPLICABLE   \n",
              "2   SATURDAY     0    NIGHT   CLEAR         0       1     0  NOT APPLICABLE   \n",
              "3  WEDNESDAY    11      DAY   CLEAR         0       1     0         HEAD ON   \n",
              "4     MONDAY    18    NIGHT   CLEAR         0       1     1  NOT APPLICABLE   \n",
              "\n",
              "    FUNC_SYS              TYP_INT  \n",
              "0     ARTERY  NOT AN INTERSECTION  \n",
              "1  COLLECTOR  NOT AN INTERSECTION  \n",
              "2     ARTERY  NOT AN INTERSECTION  \n",
              "3     ARTERY  NOT AN INTERSECTION  \n",
              "4     ARTERY  NOT AN INTERSECTION  "
            ]
          },
          "metadata": {
            "tags": []
          },
          "execution_count": 2
        }
      ]
    },
    {
      "metadata": {
        "id": "O2oMnHD8ru_q",
        "colab_type": "code",
        "outputId": "1e4299b1-9a12-46d7-ab78-a00816f61591",
        "colab": {
          "base_uri": "https://localhost:8080/",
          "height": 51
        }
      },
      "cell_type": "code",
      "source": [
        "ac.COUNTY.unique()"
      ],
      "execution_count": 0,
      "outputs": [
        {
          "output_type": "execute_result",
          "data": {
            "text/plain": [
              "array(['SAN MATEO', 'ALAMEDA', 'SAN FRANCISCO', 'MARIN', 'SANTA CLARA'],\n",
              "      dtype=object)"
            ]
          },
          "metadata": {
            "tags": []
          },
          "execution_count": 4
        }
      ]
    },
    {
      "metadata": {
        "id": "FNw_SMVxru_1",
        "colab_type": "code",
        "outputId": "4ee8e93d-ae34-4622-a8df-eebddf75729e",
        "colab": {}
      },
      "cell_type": "code",
      "source": [
        "ac.shape"
      ],
      "execution_count": 0,
      "outputs": [
        {
          "output_type": "execute_result",
          "data": {
            "text/plain": [
              "(1164, 16)"
            ]
          },
          "metadata": {
            "tags": []
          },
          "execution_count": 23
        }
      ]
    },
    {
      "metadata": {
        "id": "eyuXO-LwZ-b2",
        "colab_type": "text"
      },
      "cell_type": "markdown",
      "source": [
        "### Add label column 'CRASH' to accident data"
      ]
    },
    {
      "metadata": {
        "id": "-ChZrYpgru_5",
        "colab_type": "code",
        "colab": {}
      },
      "cell_type": "code",
      "source": [
        "ac['CRASH'] = np.ones(len(ac)).astype(int)  # prefill with 1's"
      ],
      "execution_count": 0,
      "outputs": []
    },
    {
      "metadata": {
        "id": "7gRuKVPEaJ4M",
        "colab_type": "text"
      },
      "cell_type": "markdown",
      "source": [
        "### define a random date within a range"
      ]
    },
    {
      "metadata": {
        "id": "Z0d-1es_ru_9",
        "colab_type": "code",
        "outputId": "349bdf2b-fd89-4116-9f19-f2cf241e901f",
        "colab": {
          "base_uri": "https://localhost:8080/",
          "height": 34
        }
      },
      "cell_type": "code",
      "source": [
        "import random\n",
        "from datetime import datetime, timedelta\n",
        "def newdate():\n",
        "    start = datetime(2015, 1, 1)\n",
        "    end = datetime(2017, 12, 31)\n",
        "    DATE = start + (end - start) * random.random()\n",
        "    DATE = pd.to_datetime(DATE)\n",
        "    return DATE\n",
        "DATE = newdate()\n",
        "DATE"
      ],
      "execution_count": 0,
      "outputs": [
        {
          "output_type": "execute_result",
          "data": {
            "text/plain": [
              "Timestamp('2016-12-10 20:41:14.907864')"
            ]
          },
          "metadata": {
            "tags": []
          },
          "execution_count": 6
        }
      ]
    },
    {
      "metadata": {
        "id": "osWWAh-SaY9L",
        "colab_type": "text"
      },
      "cell_type": "markdown",
      "source": [
        "### Create synthetic Negatives and add to accidents df"
      ]
    },
    {
      "metadata": {
        "id": "WISSlefDrvAB",
        "colab_type": "code",
        "colab": {}
      },
      "cell_type": "code",
      "source": [
        "# Making copy of 'ac' as 'ac2'\n",
        "ac2 = ac.copy()"
      ],
      "execution_count": 0,
      "outputs": []
    },
    {
      "metadata": {
        "id": "OImdmAoyrvAE",
        "colab_type": "code",
        "colab": {}
      },
      "cell_type": "code",
      "source": [
        "# CREATING RANDOM NEGATIVE OBSERVATIONS\n",
        "\n",
        "for _ in range(len(ac2)*10):\n",
        "    TWAY_ID = np.random.choice(ac2['TWAY_ID'])\n",
        "    ID = ac2[ac2['TWAY_ID'] == TWAY_ID]\n",
        "    TWAY_ID2 =  np.random.choice(ID['TWAY_ID2'])\n",
        "    COUNTY =  np.random.choice(ID['COUNTY'])\n",
        "    LATITUDE = np.random.choice(ID['LATITUDE'])\n",
        "    LONGITUD = np.random.choice(ID['LONGITUD'])\n",
        "    DATE = newdate()\n",
        "    DATE = pd.Series(DATE)\n",
        "    DAY_WEEK = DATE.dt.weekday.values[0] #0-6 starting Sunday\n",
        "    HOUR = DATE.dt.hour.values[0]\n",
        "    DATE = DATE.dt.date.values[0]\n",
        "    LGT_COND = 'NIGHT' if HOUR > 20 else 'DAY'\n",
        "    WEATHER = np.random.choice(ac2['WEATHER'])\n",
        "    #^ or find way to populate based on date, lgt and county\n",
        "    WRK_ZONE = 0\n",
        "    #^also look for way to populate based on date and county\n",
        "    FATALS = 0\n",
        "    PEDS = 0\n",
        "    MAN_COLL = 'NOT APPLICABLE'\n",
        "    FUNC_SYS = np.random.choice(ID['FUNC_SYS'])\n",
        "    TYP_INT = np.random.choice(ID['TYP_INT'])\n",
        "    CRASH = 0\n",
        "    ROW = [[TWAY_ID, TWAY_ID2, COUNTY, LATITUDE, LONGITUD,\n",
        "           DATE, DAY_WEEK, HOUR, LGT_COND, WEATHER, WRK_ZONE,\n",
        "           FATALS, PEDS, MAN_COLL, FUNC_SYS, TYP_INT, CRASH]]\n",
        "    NAMES = ac2.columns\n",
        "    ROW = pd.DataFrame(ROW, columns = NAMES)\n",
        "    ac2 = ac2.append(ROW)"
      ],
      "execution_count": 0,
      "outputs": []
    },
    {
      "metadata": {
        "id": "MUOPfvjcrvAJ",
        "colab_type": "code",
        "outputId": "7f542282-6a7d-4a53-a4e8-c9f820e7cc5f",
        "colab": {}
      },
      "cell_type": "code",
      "source": [
        "ac2.shape"
      ],
      "execution_count": 0,
      "outputs": [
        {
          "output_type": "execute_result",
          "data": {
            "text/plain": [
              "(48008, 17)"
            ]
          },
          "metadata": {
            "tags": []
          },
          "execution_count": 10
        }
      ]
    },
    {
      "metadata": {
        "id": "oqeq4OfZanzi",
        "colab_type": "text"
      },
      "cell_type": "markdown",
      "source": [
        "### Unencode Day of Week"
      ]
    },
    {
      "metadata": {
        "id": "8H4NhJ-TrvAN",
        "colab_type": "code",
        "colab": {}
      },
      "cell_type": "code",
      "source": [
        "ac2['DAY_WEEK'] = ac2['DAY_WEEK'].replace({0: 'SUNDAY',\n",
        "                                         1: 'MONDAY',\n",
        "                                         2: 'TUESDAY',\n",
        "                                         3: 'WEDNESDAY',\n",
        "                                         4: 'THURSDAY',\n",
        "                                         5: 'FRIDAY',\n",
        "                                         6: 'SATURDAY'})"
      ],
      "execution_count": 0,
      "outputs": []
    },
    {
      "metadata": {
        "id": "4i89bQmarvAP",
        "colab_type": "code",
        "colab": {}
      },
      "cell_type": "code",
      "source": [
        "ac2.tail()"
      ],
      "execution_count": 0,
      "outputs": []
    },
    {
      "metadata": {
        "id": "HktaWoRGrvAR",
        "colab_type": "code",
        "colab": {}
      },
      "cell_type": "code",
      "source": [
        "ac2.CRASH.value_counts()"
      ],
      "execution_count": 0,
      "outputs": []
    }
  ]
}